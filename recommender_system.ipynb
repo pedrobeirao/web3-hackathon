{
 "cells": [
  {
   "cell_type": "code",
   "execution_count": 4,
   "id": "9ff945e6",
   "metadata": {},
   "outputs": [],
   "source": [
    "import pandas as pd\n",
    "import numpy as np\n",
    "from zipfile import ZipFile\n",
    "import tensorflow as tf\n",
    "from tensorflow import keras\n",
    "from tensorflow.keras import layers\n",
    "from pathlib import Path\n",
    "import matplotlib.pyplot as plt"
   ]
  },
  {
   "cell_type": "code",
   "execution_count": 5,
   "id": "b5054464",
   "metadata": {},
   "outputs": [],
   "source": [
    "import pandas as pd\n",
    "import scipy.sparse as sparse\n",
    "import numpy as np\n",
    "from scipy.sparse.linalg import spsolve"
   ]
  },
  {
   "cell_type": "code",
   "execution_count": 2,
   "id": "e96e5684",
   "metadata": {
    "scrolled": false
   },
   "outputs": [],
   "source": [
    "import ipfshttpclient\n",
    "client = ipfshttpclient.connect()\n",
    "df_txt = client.cat('QmbY2ySpjQC9fPDRpGuxoWWkfepNYGBZvHrnsAnhwEVfDu')"
   ]
  },
  {
   "cell_type": "code",
   "execution_count": 33,
   "id": "e73b415d",
   "metadata": {},
   "outputs": [],
   "source": [
    "df = pd.read_csv('rarible_user_data.csv')"
   ]
  },
  {
   "cell_type": "code",
   "execution_count": 34,
   "id": "6fedb5d9",
   "metadata": {},
   "outputs": [],
   "source": [
    "df = df[df.columns[1:]]"
   ]
  },
  {
   "cell_type": "code",
   "execution_count": 35,
   "id": "92f3c13b",
   "metadata": {},
   "outputs": [
    {
     "data": {
      "text/html": [
       "<div>\n",
       "<style scoped>\n",
       "    .dataframe tbody tr th:only-of-type {\n",
       "        vertical-align: middle;\n",
       "    }\n",
       "\n",
       "    .dataframe tbody tr th {\n",
       "        vertical-align: top;\n",
       "    }\n",
       "\n",
       "    .dataframe thead th {\n",
       "        text-align: right;\n",
       "    }\n",
       "</style>\n",
       "<table border=\"1\" class=\"dataframe\">\n",
       "  <thead>\n",
       "    <tr style=\"text-align: right;\">\n",
       "      <th></th>\n",
       "      <th>blockNumber</th>\n",
       "      <th>blockTime</th>\n",
       "      <th>buyAmount</th>\n",
       "      <th>buyToken</th>\n",
       "      <th>buyer</th>\n",
       "      <th>contract</th>\n",
       "      <th>fee</th>\n",
       "      <th>price</th>\n",
       "      <th>sellAmount</th>\n",
       "      <th>sellToken</th>\n",
       "      <th>sellTokenId</th>\n",
       "      <th>seller</th>\n",
       "      <th>txHash</th>\n",
       "    </tr>\n",
       "  </thead>\n",
       "  <tbody>\n",
       "    <tr>\n",
       "      <th>0</th>\n",
       "      <td>9561834</td>\n",
       "      <td>1582755781</td>\n",
       "      <td>190000000000000000</td>\n",
       "      <td>0xc02aaa39b223fe8d0a0e5c4f27ead9083c756cc2</td>\n",
       "      <td>0xab3627317c43d394eb171170f818153b976d28a3</td>\n",
       "      <td>TokenSale</td>\n",
       "      <td>9.500000e+15</td>\n",
       "      <td>190000000000000000</td>\n",
       "      <td>1</td>\n",
       "      <td>0x6a5ff3ceecae9ceb96e6ac6c76b82af8b39f0eb3</td>\n",
       "      <td>1725</td>\n",
       "      <td>0xdc181cde7f10db2892605c810943d74ba2c52b01</td>\n",
       "      <td>0x006ebcc644a66d5515725ee2697c44672b6c7459ac20...</td>\n",
       "    </tr>\n",
       "    <tr>\n",
       "      <th>1</th>\n",
       "      <td>10884922</td>\n",
       "      <td>1600415757</td>\n",
       "      <td>80000000000000000</td>\n",
       "      <td>0xc02aaa39b223fe8d0a0e5c4f27ead9083c756cc2</td>\n",
       "      <td>0xab3627317c43d394eb171170f818153b976d28a3</td>\n",
       "      <td>ERC1155SaleV2</td>\n",
       "      <td>4.000000e+15</td>\n",
       "      <td>80000000000000000</td>\n",
       "      <td>1</td>\n",
       "      <td>0xd07dc4262bcdbf85190c01c996b4c06a461d2430</td>\n",
       "      <td>4444</td>\n",
       "      <td>0xe286a0e4647416362c0f417a6ffec28f495fe1b0</td>\n",
       "      <td>0x023fd314a88cf896c902d39a3b19d10620b0f663d683...</td>\n",
       "    </tr>\n",
       "    <tr>\n",
       "      <th>2</th>\n",
       "      <td>12307905</td>\n",
       "      <td>1619333319</td>\n",
       "      <td>80000000000000000</td>\n",
       "      <td>0xc02aaa39b223fe8d0a0e5c4f27ead9083c756cc2</td>\n",
       "      <td>0xab3627317c43d394eb171170f818153b976d28a3</td>\n",
       "      <td>ExchangeV1</td>\n",
       "      <td>4.000000e+15</td>\n",
       "      <td>80000000000000000</td>\n",
       "      <td>1</td>\n",
       "      <td>0xd07dc4262bcdbf85190c01c996b4c06a461d2430</td>\n",
       "      <td>493692</td>\n",
       "      <td>0xe286a0e4647416362c0f417a6ffec28f495fe1b0</td>\n",
       "      <td>0x02f98a88961d3c5c43a29eb19e0f46cfa06182f07d79...</td>\n",
       "    </tr>\n",
       "    <tr>\n",
       "      <th>3</th>\n",
       "      <td>10816807</td>\n",
       "      <td>1599512099</td>\n",
       "      <td>10000000000000000</td>\n",
       "      <td>0xc02aaa39b223fe8d0a0e5c4f27ead9083c756cc2</td>\n",
       "      <td>0xab3627317c43d394eb171170f818153b976d28a3</td>\n",
       "      <td>ERC1155SaleV2</td>\n",
       "      <td>5.000000e+14</td>\n",
       "      <td>10000000000000000</td>\n",
       "      <td>1</td>\n",
       "      <td>0xeb744cf035429204e4a12438fd499ffd69c0b52c</td>\n",
       "      <td>73</td>\n",
       "      <td>0xd1b06286f759cd9e1c140c6311ff8f2816167e65</td>\n",
       "      <td>0x07a86e161ab8ba17d910de35947237cbdb96d55fc983...</td>\n",
       "    </tr>\n",
       "    <tr>\n",
       "      <th>4</th>\n",
       "      <td>10884878</td>\n",
       "      <td>1600415186</td>\n",
       "      <td>90000000000000000</td>\n",
       "      <td>0xc02aaa39b223fe8d0a0e5c4f27ead9083c756cc2</td>\n",
       "      <td>0xab3627317c43d394eb171170f818153b976d28a3</td>\n",
       "      <td>ERC1155SaleV2</td>\n",
       "      <td>4.500000e+15</td>\n",
       "      <td>90000000000000000</td>\n",
       "      <td>1</td>\n",
       "      <td>0xd07dc4262bcdbf85190c01c996b4c06a461d2430</td>\n",
       "      <td>4753</td>\n",
       "      <td>0xe286a0e4647416362c0f417a6ffec28f495fe1b0</td>\n",
       "      <td>0x0a0bed8a2f3c1ec30f9d487931e67a78f637ba6a8c63...</td>\n",
       "    </tr>\n",
       "  </tbody>\n",
       "</table>\n",
       "</div>"
      ],
      "text/plain": [
       "   blockNumber   blockTime           buyAmount  \\\n",
       "0      9561834  1582755781  190000000000000000   \n",
       "1     10884922  1600415757   80000000000000000   \n",
       "2     12307905  1619333319   80000000000000000   \n",
       "3     10816807  1599512099   10000000000000000   \n",
       "4     10884878  1600415186   90000000000000000   \n",
       "\n",
       "                                     buyToken  \\\n",
       "0  0xc02aaa39b223fe8d0a0e5c4f27ead9083c756cc2   \n",
       "1  0xc02aaa39b223fe8d0a0e5c4f27ead9083c756cc2   \n",
       "2  0xc02aaa39b223fe8d0a0e5c4f27ead9083c756cc2   \n",
       "3  0xc02aaa39b223fe8d0a0e5c4f27ead9083c756cc2   \n",
       "4  0xc02aaa39b223fe8d0a0e5c4f27ead9083c756cc2   \n",
       "\n",
       "                                        buyer       contract           fee  \\\n",
       "0  0xab3627317c43d394eb171170f818153b976d28a3      TokenSale  9.500000e+15   \n",
       "1  0xab3627317c43d394eb171170f818153b976d28a3  ERC1155SaleV2  4.000000e+15   \n",
       "2  0xab3627317c43d394eb171170f818153b976d28a3     ExchangeV1  4.000000e+15   \n",
       "3  0xab3627317c43d394eb171170f818153b976d28a3  ERC1155SaleV2  5.000000e+14   \n",
       "4  0xab3627317c43d394eb171170f818153b976d28a3  ERC1155SaleV2  4.500000e+15   \n",
       "\n",
       "                price  sellAmount                                   sellToken  \\\n",
       "0  190000000000000000           1  0x6a5ff3ceecae9ceb96e6ac6c76b82af8b39f0eb3   \n",
       "1   80000000000000000           1  0xd07dc4262bcdbf85190c01c996b4c06a461d2430   \n",
       "2   80000000000000000           1  0xd07dc4262bcdbf85190c01c996b4c06a461d2430   \n",
       "3   10000000000000000           1  0xeb744cf035429204e4a12438fd499ffd69c0b52c   \n",
       "4   90000000000000000           1  0xd07dc4262bcdbf85190c01c996b4c06a461d2430   \n",
       "\n",
       "  sellTokenId                                      seller  \\\n",
       "0        1725  0xdc181cde7f10db2892605c810943d74ba2c52b01   \n",
       "1        4444  0xe286a0e4647416362c0f417a6ffec28f495fe1b0   \n",
       "2      493692  0xe286a0e4647416362c0f417a6ffec28f495fe1b0   \n",
       "3          73  0xd1b06286f759cd9e1c140c6311ff8f2816167e65   \n",
       "4        4753  0xe286a0e4647416362c0f417a6ffec28f495fe1b0   \n",
       "\n",
       "                                              txHash  \n",
       "0  0x006ebcc644a66d5515725ee2697c44672b6c7459ac20...  \n",
       "1  0x023fd314a88cf896c902d39a3b19d10620b0f663d683...  \n",
       "2  0x02f98a88961d3c5c43a29eb19e0f46cfa06182f07d79...  \n",
       "3  0x07a86e161ab8ba17d910de35947237cbdb96d55fc983...  \n",
       "4  0x0a0bed8a2f3c1ec30f9d487931e67a78f637ba6a8c63...  "
      ]
     },
     "execution_count": 35,
     "metadata": {},
     "output_type": "execute_result"
    }
   ],
   "source": [
    "df.head()"
   ]
  },
  {
   "cell_type": "code",
   "execution_count": 36,
   "id": "0eac684b",
   "metadata": {},
   "outputs": [],
   "source": [
    "item_lookup = df[['sellTokenId']].drop_duplicates() # Only get unique item/description pairs\n",
    "item_lookup['sellTokenId'] = item_lookup.sellTokenId.astype(str) # Encode as strings for future lookup ease"
   ]
  },
  {
   "cell_type": "code",
   "execution_count": null,
   "id": "ae49acae",
   "metadata": {},
   "outputs": [],
   "source": []
  },
  {
   "cell_type": "code",
   "execution_count": 42,
   "id": "68906016",
   "metadata": {},
   "outputs": [],
   "source": [
    "from sklearn.preprocessing import LabelEncoder\n",
    "\n",
    "le = LabelEncoder()\n",
    "df['buyer_enc'] = le.fit_transform(df['buyer'])\n",
    "df['sellTokenId_enc'] = le.fit_transform(df['sellTokenId'])"
   ]
  },
  {
   "cell_type": "code",
   "execution_count": 43,
   "id": "3cfa7841",
   "metadata": {},
   "outputs": [
    {
     "data": {
      "text/plain": [
       "0    550\n",
       "1    550\n",
       "2    550\n",
       "3    550\n",
       "4    550\n",
       "Name: buyer_enc, dtype: int64"
      ]
     },
     "execution_count": 43,
     "metadata": {},
     "output_type": "execute_result"
    }
   ],
   "source": [
    "df['buyer_enc'].head()"
   ]
  },
  {
   "cell_type": "code",
   "execution_count": 44,
   "id": "0f9387c1",
   "metadata": {},
   "outputs": [],
   "source": [
    "#df['buyer'] = df.buyer.astype(int) # Convert to int for customer ID\n",
    "df = df[['sellTokenId_enc', 'sellAmount', 'buyer_enc']] # Get rid of unnecessary info\n",
    "df_cleaned = df.groupby(['buyer_enc', 'sellTokenId_enc']).sum().reset_index() # Group together\n",
    "df_cleaned.sellAmount.loc[df_cleaned.sellAmount == 0] = 1 # Replace a sum of zero purchases with a one to\n",
    "# indicate purchased\n",
    "df_purchased = df_cleaned.query('sellAmount > 0') # Only get customers where purchase totals were positive"
   ]
  },
  {
   "cell_type": "code",
   "execution_count": 45,
   "id": "0de15382",
   "metadata": {},
   "outputs": [
    {
     "data": {
      "text/html": [
       "<div>\n",
       "<style scoped>\n",
       "    .dataframe tbody tr th:only-of-type {\n",
       "        vertical-align: middle;\n",
       "    }\n",
       "\n",
       "    .dataframe tbody tr th {\n",
       "        vertical-align: top;\n",
       "    }\n",
       "\n",
       "    .dataframe thead th {\n",
       "        text-align: right;\n",
       "    }\n",
       "</style>\n",
       "<table border=\"1\" class=\"dataframe\">\n",
       "  <thead>\n",
       "    <tr style=\"text-align: right;\">\n",
       "      <th></th>\n",
       "      <th>buyer_enc</th>\n",
       "      <th>sellTokenId_enc</th>\n",
       "      <th>sellAmount</th>\n",
       "    </tr>\n",
       "  </thead>\n",
       "  <tbody>\n",
       "    <tr>\n",
       "      <th>0</th>\n",
       "      <td>0</td>\n",
       "      <td>0</td>\n",
       "      <td>1</td>\n",
       "    </tr>\n",
       "    <tr>\n",
       "      <th>1</th>\n",
       "      <td>0</td>\n",
       "      <td>486</td>\n",
       "      <td>1</td>\n",
       "    </tr>\n",
       "    <tr>\n",
       "      <th>2</th>\n",
       "      <td>0</td>\n",
       "      <td>964</td>\n",
       "      <td>1</td>\n",
       "    </tr>\n",
       "    <tr>\n",
       "      <th>3</th>\n",
       "      <td>0</td>\n",
       "      <td>1324</td>\n",
       "      <td>1</td>\n",
       "    </tr>\n",
       "    <tr>\n",
       "      <th>4</th>\n",
       "      <td>0</td>\n",
       "      <td>1336</td>\n",
       "      <td>1</td>\n",
       "    </tr>\n",
       "    <tr>\n",
       "      <th>...</th>\n",
       "      <td>...</td>\n",
       "      <td>...</td>\n",
       "      <td>...</td>\n",
       "    </tr>\n",
       "    <tr>\n",
       "      <th>22141</th>\n",
       "      <td>853</td>\n",
       "      <td>8985</td>\n",
       "      <td>1</td>\n",
       "    </tr>\n",
       "    <tr>\n",
       "      <th>22142</th>\n",
       "      <td>853</td>\n",
       "      <td>9287</td>\n",
       "      <td>2</td>\n",
       "    </tr>\n",
       "    <tr>\n",
       "      <th>22143</th>\n",
       "      <td>853</td>\n",
       "      <td>9713</td>\n",
       "      <td>1</td>\n",
       "    </tr>\n",
       "    <tr>\n",
       "      <th>22144</th>\n",
       "      <td>854</td>\n",
       "      <td>948</td>\n",
       "      <td>13</td>\n",
       "    </tr>\n",
       "    <tr>\n",
       "      <th>22145</th>\n",
       "      <td>854</td>\n",
       "      <td>13062</td>\n",
       "      <td>19</td>\n",
       "    </tr>\n",
       "  </tbody>\n",
       "</table>\n",
       "<p>22146 rows × 3 columns</p>\n",
       "</div>"
      ],
      "text/plain": [
       "       buyer_enc  sellTokenId_enc  sellAmount\n",
       "0              0                0           1\n",
       "1              0              486           1\n",
       "2              0              964           1\n",
       "3              0             1324           1\n",
       "4              0             1336           1\n",
       "...          ...              ...         ...\n",
       "22141        853             8985           1\n",
       "22142        853             9287           2\n",
       "22143        853             9713           1\n",
       "22144        854              948          13\n",
       "22145        854            13062          19\n",
       "\n",
       "[22146 rows x 3 columns]"
      ]
     },
     "execution_count": 45,
     "metadata": {},
     "output_type": "execute_result"
    }
   ],
   "source": [
    "df_purchased"
   ]
  },
  {
   "cell_type": "code",
   "execution_count": 46,
   "id": "43682c9a",
   "metadata": {},
   "outputs": [],
   "source": [
    "customers = list(np.sort(df_purchased.buyer_enc.unique())) # Get our unique customers\n",
    "products = list(df_purchased.sellTokenId_enc.unique()) # Get our unique products that were purchased\n",
    "quantity = list(df_purchased.sellAmount) # All of our purchases\n"
   ]
  },
  {
   "cell_type": "code",
   "execution_count": 47,
   "id": "4d3b58c9",
   "metadata": {},
   "outputs": [],
   "source": [
    "rows = pd.Categorical(df_purchased['buyer_enc'].astype('int64'), categories = customers)\n"
   ]
  },
  {
   "cell_type": "code",
   "execution_count": 48,
   "id": "871456b2",
   "metadata": {},
   "outputs": [
    {
     "data": {
      "text/plain": [
       "[0, 0, 0, 0, 0, ..., 853, 853, 853, 854, 854]\n",
       "Length: 22146\n",
       "Categories (855, int64): [0, 1, 2, 3, ..., 851, 852, 853, 854]"
      ]
     },
     "execution_count": 48,
     "metadata": {},
     "output_type": "execute_result"
    }
   ],
   "source": [
    "rows"
   ]
  },
  {
   "cell_type": "code",
   "execution_count": 49,
   "id": "5e6bfc7b",
   "metadata": {},
   "outputs": [],
   "source": [
    "#rows = df_purchased.buyer.astype('category', categories = customers).cat.codes \n",
    "rows = pd.Categorical(df_purchased['buyer_enc'].astype('int64'), categories = customers)\n",
    "# Get the associated row indices\n",
    "#cols = df_purchased.sellTokenId.astype('category', categories = products).cat.codes \n",
    "cols = pd.Categorical(df_purchased['sellTokenId_enc'].astype('int64'), categories = products)\n",
    "# Get the associated column indices\n",
    "purchases_sparse = sparse.csr_matrix((quantity, (rows, cols)), shape=(len(customers), len(products)))\n"
   ]
  },
  {
   "cell_type": "code",
   "execution_count": 50,
   "id": "4b48802e",
   "metadata": {},
   "outputs": [
    {
     "data": {
      "text/plain": [
       "<855x13101 sparse matrix of type '<class 'numpy.int64'>'\n",
       "\twith 22146 stored elements in Compressed Sparse Row format>"
      ]
     },
     "execution_count": 50,
     "metadata": {},
     "output_type": "execute_result"
    }
   ],
   "source": [
    "purchases_sparse"
   ]
  },
  {
   "cell_type": "code",
   "execution_count": 51,
   "id": "25d22e37",
   "metadata": {},
   "outputs": [
    {
     "data": {
      "text/plain": [
       "99.80229177630741"
      ]
     },
     "execution_count": 51,
     "metadata": {},
     "output_type": "execute_result"
    }
   ],
   "source": [
    "matrix_size = purchases_sparse.shape[0]*purchases_sparse.shape[1] # Number of possible interactions in the matrix\n",
    "num_purchases = len(purchases_sparse.nonzero()[0]) # Number of items interacted with\n",
    "sparsity = 100*(1 - (num_purchases/matrix_size))\n",
    "sparsity"
   ]
  },
  {
   "cell_type": "code",
   "execution_count": 52,
   "id": "374d28b9",
   "metadata": {},
   "outputs": [],
   "source": [
    "import random\n"
   ]
  },
  {
   "cell_type": "code",
   "execution_count": 53,
   "id": "27389912",
   "metadata": {},
   "outputs": [],
   "source": [
    "def make_train(ratings, pct_test = 0.2):\n",
    "    test_set = ratings.copy() # Make a copy of the original set to be the test set. \n",
    "    test_set[test_set != 0] = 1 # Store the test set as a binary preference matrix\n",
    "    training_set = ratings.copy() # Make a copy of the original data we can alter as our training set. \n",
    "    nonzero_inds = training_set.nonzero() # Find the indices in the ratings data where an interaction exists\n",
    "    nonzero_pairs = list(zip(nonzero_inds[0], nonzero_inds[1])) # Zip these pairs together of user,item index into list\n",
    "    random.seed(0) # Set the random seed to zero for reproducibility\n",
    "    num_samples = int(np.ceil(pct_test*len(nonzero_pairs))) # Round the number of samples needed to the nearest integer\n",
    "    samples = random.sample(nonzero_pairs, num_samples) # Sample a random number of user-item pairs without replacement\n",
    "    user_inds = [index[0] for index in samples] # Get the user row indices\n",
    "    item_inds = [index[1] for index in samples] # Get the item column indices\n",
    "    training_set[user_inds, item_inds] = 0 # Assign all of the randomly chosen user-item pairs to zero\n",
    "    training_set.eliminate_zeros() # Get rid of zeros in sparse array storage after update to save space\n",
    "    return training_set, test_set, list(set(user_inds)) # Output the unique list of user rows that were altered  "
   ]
  },
  {
   "cell_type": "code",
   "execution_count": 54,
   "id": "6cf376bd",
   "metadata": {},
   "outputs": [],
   "source": [
    "product_train, product_test, product_users_altered = make_train(purchases_sparse, pct_test = 0.2)\n"
   ]
  },
  {
   "cell_type": "code",
   "execution_count": 55,
   "id": "0114cd70",
   "metadata": {},
   "outputs": [],
   "source": [
    "def implicit_weighted_ALS(training_set, lambda_val = 0.1, alpha = 40, iterations = 10, rank_size = 20, seed = 0):\n",
    "    # first set up our confidence matrix\n",
    "    \n",
    "    conf = (alpha*training_set) # To allow the matrix to stay sparse, I will add one later when each row is taken \n",
    "                                # and converted to dense. \n",
    "    num_user = conf.shape[0]\n",
    "    num_item = conf.shape[1] # Get the size of our original ratings matrix, m x n\n",
    "    \n",
    "    # initialize our X/Y feature vectors randomly with a set seed\n",
    "    rstate = np.random.RandomState(seed)\n",
    "    \n",
    "    X = sparse.csr_matrix(rstate.normal(size = (num_user, rank_size))) # Random numbers in a m x rank shape\n",
    "    Y = sparse.csr_matrix(rstate.normal(size = (num_item, rank_size))) # Normally this would be rank x n but we can \n",
    "                                                                 # transpose at the end. Makes calculation more simple.\n",
    "    X_eye = sparse.eye(num_user)\n",
    "    Y_eye = sparse.eye(num_item)\n",
    "    lambda_eye = lambda_val * sparse.eye(rank_size) # Our regularization term lambda*I. \n",
    "    \n",
    "    # We can compute this before iteration starts. \n",
    "    \n",
    "    # Begin iterations\n",
    "    for iter_step in range(iterations): # Iterate back and forth between solving X given fixed Y and vice versa\n",
    "    # Compute yTy and xTx at beginning of each iteration to save computing time\n",
    "        yTy = Y.T.dot(Y)\n",
    "        xTx = X.T.dot(X)\n",
    "        # Being iteration to solve for X based on fixed Y\n",
    "        for u in range(num_user):\n",
    "            conf_samp = conf[u,:].toarray() # Grab user row from confidence matrix and convert to dense\n",
    "            pref = conf_samp.copy() \n",
    "            pref[pref != 0] = 1 # Create binarized preference vector \n",
    "            CuI = sparse.diags(conf_samp, [0]) # Get Cu - I term, don't need to subtract 1 since we never added it \n",
    "            yTCuIY = Y.T.dot(CuI).dot(Y) # This is the yT(Cu-I)Y term \n",
    "            yTCupu = Y.T.dot(CuI + Y_eye).dot(pref.T) # This is the yTCuPu term, where we add the eye back in\n",
    "                                                      # Cu - I + I = Cu\n",
    "            X[u] = spsolve(yTy + yTCuIY + lambda_eye, yTCupu) \n",
    "            # Solve for Xu = ((yTy + yT(Cu-I)Y + lambda*I)^-1)yTCuPu, equation 4 from the paper  \n",
    "        # Begin iteration to solve for Y based on fixed X \n",
    "        for i in range(num_item):\n",
    "            conf_samp = conf[:,i].T.toarray() # transpose to get it in row format and convert to dense\n",
    "            pref = conf_samp.copy()\n",
    "            pref[pref != 0] = 1 # Create binarized preference vector\n",
    "            CiI = sparse.diags(conf_samp, [0]) # Get Ci - I term, don't need to subtract 1 since we never added it\n",
    "            xTCiIX = X.T.dot(CiI).dot(X) # This is the xT(Cu-I)X term\n",
    "            xTCiPi = X.T.dot(CiI + X_eye).dot(pref.T) # This is the xTCiPi term\n",
    "            Y[i] = spsolve(xTx + xTCiIX + lambda_eye, xTCiPi)\n",
    "                        # Solve for Yi = ((xTx + xT(Cu-I)X) + lambda*I)^-1)xTCiPi, equation 5 from the paper\n",
    "    # End iterations\n",
    "    return X, Y.T # Transpose at the end to make up for not being transposed at the beginning. \n",
    "                         # Y needs to be rank x n. Keep these as separate matrices for scale reasons. "
   ]
  },
  {
   "cell_type": "code",
   "execution_count": 104,
   "id": "41db8022",
   "metadata": {},
   "outputs": [],
   "source": [
    "user_vecs, item_vecs = implicit_weighted_ALS(product_train, lambda_val = 0.1, alpha = 15, iterations = 1,\n",
    "                                            rank_size = 20)"
   ]
  },
  {
   "cell_type": "code",
   "execution_count": 57,
   "id": "b1c78005",
   "metadata": {},
   "outputs": [
    {
     "data": {
      "text/plain": [
       "array([ 6.52699299e-03,  2.37947254e-03,  3.97489752e-04, -1.82652587e-05,\n",
       "        1.39210610e-05])"
      ]
     },
     "execution_count": 57,
     "metadata": {},
     "output_type": "execute_result"
    }
   ],
   "source": [
    "user_vecs[0,:].dot(item_vecs).toarray()[0,:5]\n"
   ]
  },
  {
   "cell_type": "code",
   "execution_count": 58,
   "id": "86e02f12",
   "metadata": {},
   "outputs": [],
   "source": [
    "from sklearn import metrics\n",
    "\n",
    "def auc_score(predictions, test):\n",
    "    '''\n",
    "    This simple function will output the area under the curve using sklearn's metrics. \n",
    "    \n",
    "    parameters:\n",
    "    \n",
    "    - predictions: your prediction output\n",
    "    \n",
    "    - test: the actual target result you are comparing to\n",
    "    \n",
    "    returns:\n",
    "    \n",
    "    - AUC (area under the Receiver Operating Characterisic curve)\n",
    "    '''\n",
    "    fpr, tpr, thresholds = metrics.roc_curve(test, predictions)\n",
    "    return metrics.auc(fpr, tpr)   "
   ]
  },
  {
   "cell_type": "code",
   "execution_count": 109,
   "id": "8c599485",
   "metadata": {},
   "outputs": [],
   "source": [
    "def calc_mean_auc(training_set, altered_users, predictions, test_set):\n",
    "    store_auc = [] # An empty list to store the AUC for each user that had an item removed from the training set\n",
    "    popularity_auc = [] # To store popular AUC scores\n",
    "    pop_items = np.array(test_set.sum(axis = 0)).reshape(-1) # Get sum of item iteractions to find most popular\n",
    "    item_v = predictions[1]\n",
    "    for user in altered_users: # Iterate through each user that had an item altered\n",
    "        training_row = training_set[user,:].toarray().reshape(-1) # Get the training set row\n",
    "        zero_inds = np.where(training_row == 0) # Find where the interaction had not yet occurred\n",
    "        # Get the predicted values based on our user/item vectors\n",
    "        user_v = predictions[0][user,:]\n",
    "        pred = user_v.dot(item_v).toarray()[0,zero_inds].reshape(-1)\n",
    "        # Get only the items that were originally zero\n",
    "        # Select all ratings from the MF prediction for this user that originally had no iteraction\n",
    "        actual = test_set[user,:].toarray()[0,zero_inds].reshape(-1) \n",
    "        # Select the binarized yes/no interaction pairs from the original full data\n",
    "        # that align with the same pairs in training \n",
    "        pop = pop_items[zero_inds] # Get the item popularity for our chosen items\n",
    "        store_auc.append(auc_score(pred, actual)) # Calculate AUC for the given user and store\n",
    "        popularity_auc.append(auc_score(pop, actual)) # Calculate AUC using most popular and score\n",
    "        # End users iteration\n",
    "\n",
    "        return float('%.3f'%np.mean(store_auc)), float('%.3f'%np.mean(popularity_auc))  \n",
    "   # Return the mean AUC rounded to three decimal places for both test and popularity benchmark"
   ]
  },
  {
   "cell_type": "code",
   "execution_count": 110,
   "id": "a1e4e5b0",
   "metadata": {},
   "outputs": [
    {
     "data": {
      "text/plain": [
       "(0.544, 0.689)"
      ]
     },
     "execution_count": 110,
     "metadata": {},
     "output_type": "execute_result"
    }
   ],
   "source": [
    "float('%.3f'%np.mean(store_auc)), float('%.3f'%np.mean(popularity_auc))  "
   ]
  },
  {
   "cell_type": "code",
   "execution_count": 112,
   "id": "3641e028",
   "metadata": {},
   "outputs": [
    {
     "data": {
      "text/plain": [
       "(0.529, 0.726)"
      ]
     },
     "execution_count": 112,
     "metadata": {},
     "output_type": "execute_result"
    }
   ],
   "source": [
    "calc_mean_auc(product_train, product_users_altered, \n",
    "              [sparse.csr_matrix(user_vecs), sparse.csr_matrix(item_vecs)], product_test)\n"
   ]
  },
  {
   "cell_type": "code",
   "execution_count": 113,
   "id": "67e83ecf",
   "metadata": {},
   "outputs": [],
   "source": [
    "customers_arr = np.array(customers) # Array of customer IDs from the ratings matrix\n",
    "products_arr = np.array(products) # Array of product IDs from the ratings matrix"
   ]
  },
  {
   "cell_type": "code",
   "execution_count": 127,
   "id": "f40bfeed",
   "metadata": {},
   "outputs": [],
   "source": [
    "def get_items_purchased(customer_id, mf_train, customers_list, products_list, item_lookup):\n",
    "    cust_ind = np.where(customers_list == customer_id)[0][0] # Returns the index row of our customer id\n",
    "    purchased_ind = mf_train[cust_ind,:].nonzero()[1] # Get column indices of purchased items\n",
    "    prod_codes = products_list[purchased_ind] # Get the stock codes for our purchased items\n",
    "    return item_lookup.loc[df['sellTokenId_enc'].isin(prod_codes)]"
   ]
  },
  {
   "cell_type": "code",
   "execution_count": 128,
   "id": "a358dad2",
   "metadata": {},
   "outputs": [
    {
     "data": {
      "text/plain": [
       "array([0, 1, 2, 3, 4])"
      ]
     },
     "execution_count": 128,
     "metadata": {},
     "output_type": "execute_result"
    }
   ],
   "source": [
    "customers_arr[:5]\n"
   ]
  },
  {
   "cell_type": "code",
   "execution_count": 154,
   "id": "99543378",
   "metadata": {
    "scrolled": true
   },
   "outputs": [
    {
     "data": {
      "text/html": [
       "<div>\n",
       "<style scoped>\n",
       "    .dataframe tbody tr th:only-of-type {\n",
       "        vertical-align: middle;\n",
       "    }\n",
       "\n",
       "    .dataframe tbody tr th {\n",
       "        vertical-align: top;\n",
       "    }\n",
       "\n",
       "    .dataframe thead th {\n",
       "        text-align: right;\n",
       "    }\n",
       "</style>\n",
       "<table border=\"1\" class=\"dataframe\">\n",
       "  <thead>\n",
       "    <tr style=\"text-align: right;\">\n",
       "      <th></th>\n",
       "      <th>sellTokenId</th>\n",
       "    </tr>\n",
       "  </thead>\n",
       "  <tbody>\n",
       "    <tr>\n",
       "      <th>1001</th>\n",
       "      <td>3638</td>\n",
       "    </tr>\n",
       "    <tr>\n",
       "      <th>2192</th>\n",
       "      <td>5701</td>\n",
       "    </tr>\n",
       "    <tr>\n",
       "      <th>3472</th>\n",
       "      <td>5678</td>\n",
       "    </tr>\n",
       "    <tr>\n",
       "      <th>3561</th>\n",
       "      <td>54968</td>\n",
       "    </tr>\n",
       "    <tr>\n",
       "      <th>3981</th>\n",
       "      <td>8896</td>\n",
       "    </tr>\n",
       "    <tr>\n",
       "      <th>5522</th>\n",
       "      <td>60426</td>\n",
       "    </tr>\n",
       "    <tr>\n",
       "      <th>7833</th>\n",
       "      <td>90229</td>\n",
       "    </tr>\n",
       "    <tr>\n",
       "      <th>8632</th>\n",
       "      <td>734</td>\n",
       "    </tr>\n",
       "    <tr>\n",
       "      <th>8674</th>\n",
       "      <td>521894</td>\n",
       "    </tr>\n",
       "    <tr>\n",
       "      <th>8917</th>\n",
       "      <td>13402</td>\n",
       "    </tr>\n",
       "    <tr>\n",
       "      <th>9132</th>\n",
       "      <td>239182</td>\n",
       "    </tr>\n",
       "    <tr>\n",
       "      <th>9503</th>\n",
       "      <td>68548</td>\n",
       "    </tr>\n",
       "    <tr>\n",
       "      <th>9540</th>\n",
       "      <td>57459</td>\n",
       "    </tr>\n",
       "    <tr>\n",
       "      <th>9740</th>\n",
       "      <td>68448</td>\n",
       "    </tr>\n",
       "    <tr>\n",
       "      <th>9814</th>\n",
       "      <td>68635</td>\n",
       "    </tr>\n",
       "    <tr>\n",
       "      <th>12226</th>\n",
       "      <td>36553</td>\n",
       "    </tr>\n",
       "    <tr>\n",
       "      <th>13917</th>\n",
       "      <td>86125</td>\n",
       "    </tr>\n",
       "    <tr>\n",
       "      <th>14899</th>\n",
       "      <td>96111</td>\n",
       "    </tr>\n",
       "    <tr>\n",
       "      <th>18194</th>\n",
       "      <td>301644</td>\n",
       "    </tr>\n",
       "    <tr>\n",
       "      <th>19179</th>\n",
       "      <td>132832</td>\n",
       "    </tr>\n",
       "    <tr>\n",
       "      <th>21169</th>\n",
       "      <td>454860</td>\n",
       "    </tr>\n",
       "    <tr>\n",
       "      <th>21624</th>\n",
       "      <td>503221</td>\n",
       "    </tr>\n",
       "    <tr>\n",
       "      <th>21809</th>\n",
       "      <td>311342</td>\n",
       "    </tr>\n",
       "    <tr>\n",
       "      <th>24052</th>\n",
       "      <td>521565</td>\n",
       "    </tr>\n",
       "    <tr>\n",
       "      <th>24299</th>\n",
       "      <td>581730</td>\n",
       "    </tr>\n",
       "  </tbody>\n",
       "</table>\n",
       "</div>"
      ],
      "text/plain": [
       "      sellTokenId\n",
       "1001         3638\n",
       "2192         5701\n",
       "3472         5678\n",
       "3561        54968\n",
       "3981         8896\n",
       "5522        60426\n",
       "7833        90229\n",
       "8632          734\n",
       "8674       521894\n",
       "8917        13402\n",
       "9132       239182\n",
       "9503        68548\n",
       "9540        57459\n",
       "9740        68448\n",
       "9814        68635\n",
       "12226       36553\n",
       "13917       86125\n",
       "14899       96111\n",
       "18194      301644\n",
       "19179      132832\n",
       "21169      454860\n",
       "21624      503221\n",
       "21809      311342\n",
       "24052      521565\n",
       "24299      581730"
      ]
     },
     "execution_count": 154,
     "metadata": {},
     "output_type": "execute_result"
    }
   ],
   "source": [
    "get_items_purchased(1, product_train, customers_arr, products_arr, item_lookup)\n"
   ]
  },
  {
   "cell_type": "code",
   "execution_count": 140,
   "id": "530b383f",
   "metadata": {},
   "outputs": [],
   "source": [
    "from sklearn.preprocessing import MaxAbsScaler\n"
   ]
  },
  {
   "cell_type": "code",
   "execution_count": 167,
   "id": "5be7c517",
   "metadata": {},
   "outputs": [],
   "source": [
    "def rec_items(customer_id, mf_train, user_vecs, item_vecs, customer_list, item_list, num_items = 10):\n",
    "    cust_ind = np.where(customer_list == customer_id)[0][0] # Returns the index row of our customer id\n",
    "    pref_vec = mf_train[cust_ind,:].toarray() # Get the ratings from the training set ratings matrix\n",
    "    pref_vec = pref_vec.reshape(-1) + 1 # Add 1 to everything, so that items not purchased yet become equal to 1\n",
    "    pref_vec[pref_vec > 1] = 0 # Make everything already purchased zero\n",
    "    rec_vector = user_vecs[cust_ind,:].dot(item_vecs) # Get dot product of user vector and all item vectors\n",
    "    # Scale this recommendation vector between 0 and 1\n",
    "    min_max = MaxAbsScaler()\n",
    "    rec_vector_scaled = min_max.fit_transform(rec_vector.reshape(-1,1))[:,0] \n",
    "    recommend_vector = pref_vec*rec_vector_scaled \n",
    "    # Items already purchased have their recommendation multiplied by zero\n",
    "    product_idx = np.argsort(recommend_vector)[::-1][:num_items] # Sort the indices of the items into order \n",
    "    # of best recommendations\n",
    "    rec_list = [] # start empty list to store items\n",
    "    for index in product_idx:\n",
    "        code = item_list[index]\n",
    "        rec_list.append([code]) \n",
    "        # Append our descriptions to the list\n",
    "    codes = [item[0] for item in rec_list]\n",
    "#    descriptions = [item[1] for item in rec_list]\n",
    "    final_frame = pd.DataFrame({'StockCode': codes}) # Create a dataframe \n",
    "    return final_frame[['StockCode']] # Switch order of columns around"
   ]
  },
  {
   "cell_type": "code",
   "execution_count": 168,
   "id": "3c51aa35",
   "metadata": {},
   "outputs": [
    {
     "data": {
      "text/plain": [
       "<1x13101 sparse matrix of type '<class 'numpy.float64'>'\n",
       "\twith 10987 stored elements in Compressed Sparse Row format>"
      ]
     },
     "execution_count": 168,
     "metadata": {},
     "output_type": "execute_result"
    }
   ],
   "source": [
    "cust_ind = np.where(customers_arr == 0)[0][0] # Returns the index row of our customer id\n",
    "\n",
    "user_vecs[cust_ind,:].dot(item_vecs)"
   ]
  },
  {
   "cell_type": "code",
   "execution_count": 169,
   "id": "d2a8f621",
   "metadata": {},
   "outputs": [
    {
     "data": {
      "text/html": [
       "<div>\n",
       "<style scoped>\n",
       "    .dataframe tbody tr th:only-of-type {\n",
       "        vertical-align: middle;\n",
       "    }\n",
       "\n",
       "    .dataframe tbody tr th {\n",
       "        vertical-align: top;\n",
       "    }\n",
       "\n",
       "    .dataframe thead th {\n",
       "        text-align: right;\n",
       "    }\n",
       "</style>\n",
       "<table border=\"1\" class=\"dataframe\">\n",
       "  <thead>\n",
       "    <tr style=\"text-align: right;\">\n",
       "      <th></th>\n",
       "      <th>StockCode</th>\n",
       "    </tr>\n",
       "  </thead>\n",
       "  <tbody>\n",
       "    <tr>\n",
       "      <th>0</th>\n",
       "      <td>0</td>\n",
       "    </tr>\n",
       "  </tbody>\n",
       "</table>\n",
       "</div>"
      ],
      "text/plain": [
       "   StockCode\n",
       "0          0"
      ]
     },
     "execution_count": 169,
     "metadata": {},
     "output_type": "execute_result"
    }
   ],
   "source": [
    "rec_items(1, product_train, user_vecs, item_vecs, customers_arr, products_arr,\n",
    "                       num_items = 10)"
   ]
  },
  {
   "cell_type": "code",
   "execution_count": null,
   "id": "b4ab5f22",
   "metadata": {},
   "outputs": [],
   "source": []
  },
  {
   "cell_type": "code",
   "execution_count": null,
   "id": "837ce8be",
   "metadata": {},
   "outputs": [],
   "source": []
  }
 ],
 "metadata": {
  "kernelspec": {
   "display_name": "Python 3",
   "language": "python",
   "name": "python3"
  },
  "language_info": {
   "codemirror_mode": {
    "name": "ipython",
    "version": 3
   },
   "file_extension": ".py",
   "mimetype": "text/x-python",
   "name": "python",
   "nbconvert_exporter": "python",
   "pygments_lexer": "ipython3",
   "version": "3.9.10"
  }
 },
 "nbformat": 4,
 "nbformat_minor": 5
}
